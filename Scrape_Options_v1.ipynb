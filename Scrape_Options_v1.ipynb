{
 "cells": [
  {
   "cell_type": "code",
   "execution_count": 10,
   "metadata": {},
   "outputs": [],
   "source": [
    "import requests\n",
    "import lxml.html as lh\n",
    "import pandas as pd\n",
    "import time\n",
    "import os"
   ]
  },
  {
   "cell_type": "code",
   "execution_count": 11,
   "metadata": {},
   "outputs": [
    {
     "name": "stdin",
     "output_type": "stream",
     "text": [
      "insira a data no formato DD_MM_AAAA:  555555\n"
     ]
    },
    {
     "name": "stdout",
     "output_type": "stream",
     "text": [
      "Toda Base de dados será salvo na pasta: 555555\n"
     ]
    },
    {
     "name": "stdin",
     "output_type": "stream",
     "text": [
      "Digite xlsx para excel ou csv: \n",
      " xlsx\n"
     ]
    }
   ],
   "source": [
    "### Descrição: pega todas as opções inseridas de todos os vencimentos e armazena em excel ou csv.\n",
    "path = os.getcwd()\n",
    "lista =[]\n",
    "excel = 'Caio Araújo'\n",
    "end = 1\n",
    "date = input(\"insira a data no formato DD_MM_AAAA: \")\n",
    "os.mkdir(f\"{path}\\{date}\")\n",
    "new_folder = f\"{path}\\{date}\"\n",
    "print(f\"Toda Base de dados será salvo na pasta: {date}\")\n",
    "excel = input(\"Digite xlsx para excel ou csv: \\n\")\n",
    "\n",
    "    "
   ]
  },
  {
   "cell_type": "code",
   "execution_count": 12,
   "metadata": {},
   "outputs": [
    {
     "name": "stdin",
     "output_type": "stream",
     "text": [
      "Coloque as 4 primeiras letras do ticker da opção:\n",
      " Exemplo: PETR\n",
      "  PETR\n"
     ]
    },
    {
     "name": "stdout",
     "output_type": "stream",
     "text": [
      "PETR\n"
     ]
    },
    {
     "name": "stdin",
     "output_type": "stream",
     "text": [
      "Coloque as 4 primeiras letras do ticker da opção:\n",
      " Exemplo: PETR\n",
      "  BBAS\n"
     ]
    },
    {
     "name": "stdout",
     "output_type": "stream",
     "text": [
      "BBAS\n"
     ]
    },
    {
     "name": "stdin",
     "output_type": "stream",
     "text": [
      "Coloque as 4 primeiras letras do ticker da opção:\n",
      " Exemplo: PETR\n",
      "  BBDC\n"
     ]
    },
    {
     "name": "stdout",
     "output_type": "stream",
     "text": [
      "BBDC\n"
     ]
    },
    {
     "name": "stdin",
     "output_type": "stream",
     "text": [
      "Coloque as 4 primeiras letras do ticker da opção:\n",
      " Exemplo: PETR\n",
      "  IRBR\n"
     ]
    },
    {
     "name": "stdout",
     "output_type": "stream",
     "text": [
      "IRBR\n"
     ]
    },
    {
     "name": "stdin",
     "output_type": "stream",
     "text": [
      "Coloque as 4 primeiras letras do ticker da opção:\n",
      " Exemplo: PETR\n",
      "  \n"
     ]
    },
    {
     "name": "stdout",
     "output_type": "stream",
     "text": [
      "\n",
      "As Opções ['PETR', 'BBAS', 'BBDC', 'IRBR'] de todos os vencimentos estão sendo coletados com 15 minutos de atraso.\n"
     ]
    }
   ],
   "source": [
    "while (excel != 'xlsx') and (excel != 'csv'):\n",
    "\tprint(\"insira um formato válido\\n\")\n",
    "\texcel = input(\"Digite xlsx para excel ou csv: \\n\")\n",
    "\tprint(excel)\n",
    "\n",
    "\n",
    "# Gerar lista das opções a serem coletadas:\n",
    "while (end == 1):\n",
    "\tval = input('Coloque as 4 primeiras letras do ticker da opção:\\n Exemplo: PETR\\n ')\t\n",
    "\tlista.append(val)\n",
    "\tprint(val)\n",
    "\tif val == 'n' or val=='ok' or val==\"\":\t\n",
    "\t\tlista.pop()\n",
    "\t\tend = 0\n",
    "\t\tprint(f\"As Opções {lista} de todos os vencimentos estão sendo coletados com 15 minutos de atraso.\")\n",
    "\t\ttime.sleep(2)\n",
    "\t\t\n",
    "\t\t"
   ]
  },
  {
   "cell_type": "code",
   "execution_count": 13,
   "metadata": {},
   "outputs": [],
   "source": [
    "for ativo in lista:\n",
    "\n",
    "\n",
    "\tcookies = {\n",
    "\t    'ASPSESSIONIDAQDCABSQ': 'NBNBJFFDKGLAKDBMCMNKKLAN',\n",
    "\t    '__utmc': '103385669',\n",
    "\t    '__utmz': '103385669.1607466575.1.1.utmcsr=tradergrafico.com.br^|utmccn=(referral)^|utmcmd=referral^|utmcct=/opcoes/',\n",
    "\t    '_fbp': 'fb.1.1607466771203.806434286',\n",
    "\t    'ASPSESSIONIDCSDBBBTR': 'OIAAHBCAHOCLGDLPFDGCDGHD',\n",
    "\t    '__utma': '103385669.450859380.1607466575.1607534770.1607556175.4',\n",
    "\t}\n",
    "\n",
    "\theaders = {\n",
    "\t    'Connection': 'keep-alive',\n",
    "\t    'Cache-Control': 'max-age=0',\n",
    "\t    'Upgrade-Insecure-Requests': '1',\n",
    "\t    'User-Agent': 'Mozilla/5.0 (Windows NT 6.1; Win64; x64) AppleWebKit/537.36 (KHTML, like Gecko) Chrome/86.0.4240.198 Safari/537.36 OPR/72.0.3815.400',\n",
    "\t    'Accept': 'text/html,application/xhtml+xml,application/xml;q=0.9,image/avif,image/webp,image/apng,*/*;q=0.8,application/signed-exchange;v=b3;q=0.9',\n",
    "\t    'Sec-Fetch-Site': 'none',\n",
    "\t    'Sec-Fetch-Mode': 'navigate',\n",
    "\t    'Sec-Fetch-User': '?1',\n",
    "\t    'Sec-Fetch-Dest': 'document',\n",
    "\t    'Accept-Language': 'pt-BR,pt;q=0.9,en-US;q=0.8,en;q=0.7',\n",
    "\t}\n",
    "\n",
    "\n",
    "\tresponse = requests.get(f'https://tradergrafi.co/opcoes/?opc={ativo}', headers=headers, cookies=cookies)\n",
    "\n",
    "\n",
    "\t#Store the contents of the website under doc\n",
    "\tdoc = lh.fromstring(response.content)\n",
    "\n",
    "\t#Parse data that are stored between <tr>..</tr> of HTML\n",
    "\ttr_elements = doc.xpath('//tr')\n",
    "\t# Next, let’s parse the first row as our header.\n",
    "\n",
    "\t#Create empty list\n",
    "\tcol=[]\n",
    "\ti=0\n",
    "\t#For each row, store each first element (header) and an empty list\n",
    "\tfor t in tr_elements[0]:\n",
    "\t    i+=1\n",
    "\t    name=t.text_content()\n",
    "\t    #print ('%d %s' %(i,name))\n",
    "\t    col.append((name,[]))\n",
    "\n",
    "\t#Since out first row is the header, data is stored on the second row onwards\n",
    "\tfor j in range(1,len(tr_elements)):\n",
    "\t    #T is our j'th row\n",
    "\t    T=tr_elements[j]\n",
    "\t    \n",
    "\t    #If row is not of size 10, the //tr data is not from our table \n",
    "\t    if len(T)!=len(col):\n",
    "\t        break\n",
    "\t    \n",
    "\t    #i is the index of our column\n",
    "\t    i=0\n",
    "\t    \n",
    "\t    #Iterate through each element of the row\n",
    "\t    for t in T.iterchildren():\n",
    "\t        data=t.text_content() \n",
    "\t        #Check if row is empty\n",
    "\t        if i>0:\n",
    "\t        #Convert any numerical value to float\n",
    "\t            try:\n",
    "\t                data=float(data)\n",
    "\t            except:\n",
    "\t                pass\n",
    "\t        #Append the data to the empty list of the i'th column\n",
    "\t        col[i][1].append(data)\n",
    "\t        #Increment i for the next column\n",
    "\t        i+=1\n",
    "            \n",
    "    #Criar Dataframe dos dados coletados: \n",
    "    \n",
    "\tDict={title:column for (title,column) in col}\n",
    "\tdf=pd.DataFrame(Dict)\n",
    "    #df.columns = ['Ticker','Hora','Últ.Cotação','Nº Negócios','Descrição','Vencimento', 'Exercício']\n",
    "\n",
    "\tif excel == 'xlsx':\n",
    "\t\tnome = f\"{ativo}_{date}\"\n",
    "\t\tdf.to_excel(rf\"{new_folder}\\{nome}.xlsx\", index=False, header=True)\n",
    "\t\t\n",
    "\n",
    "\telse: \n",
    "\t\tnome = f\"{ativo}_{date}\"\n",
    "\t\tdf.to_csv(rf'{new_folder}\\{nome}.csv', index=False, header=True)\n",
    "    "
   ]
  },
  {
   "cell_type": "code",
   "execution_count": 14,
   "metadata": {},
   "outputs": [
    {
     "name": "stdout",
     "output_type": "stream",
     "text": [
      "Finalizado\n"
     ]
    }
   ],
   "source": [
    "print(\"Finalizado\")\n",
    "time.sleep(3)"
   ]
  }
 ],
 "metadata": {
  "kernelspec": {
   "display_name": "Python 3",
   "language": "python",
   "name": "python3"
  },
  "language_info": {
   "codemirror_mode": {
    "name": "ipython",
    "version": 3
   },
   "file_extension": ".py",
   "mimetype": "text/x-python",
   "name": "python",
   "nbconvert_exporter": "python",
   "pygments_lexer": "ipython3",
   "version": "3.8.5"
  }
 },
 "nbformat": 4,
 "nbformat_minor": 4
}
